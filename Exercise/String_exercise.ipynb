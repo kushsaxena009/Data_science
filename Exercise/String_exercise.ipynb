{
 "cells": [
  {
   "cell_type": "markdown",
   "metadata": {},
   "source": [
    "### PYTHON STRING EXERCISES"
   ]
  },
  {
   "cell_type": "raw",
   "metadata": {},
   "source": [
    "1. Write a Python program to calculate the length of a string"
   ]
  },
  {
   "cell_type": "code",
   "execution_count": 3,
   "metadata": {},
   "outputs": [
    {
     "name": "stdout",
     "output_type": "stream",
     "text": [
      "Please enter any stringKushagra Saxena\n",
      "Length of input string is 15\n",
      "Length of string is 15\n"
     ]
    }
   ],
   "source": [
    "string1 = input(\"Please enter any string\")\n",
    "a = 0\n",
    "print(\"Length of input string is\",len(str1))\n",
    "# or\n",
    "for i in str1:\n",
    "    a=a+1\n",
    "print(\"Length of string is\",a)"
   ]
  },
  {
   "cell_type": "raw",
   "metadata": {},
   "source": [
    "2. Write a Python program to count the number of characters (character frequency) in a string. Go to the editor\n",
    "Sample String : google.com'\n",
    "Expected Result : {'g': 2, 'o': 3, 'l': 1, 'e': 1, '.': 1, 'c': 1, 'm': 1}"
   ]
  },
  {
   "cell_type": "code",
   "execution_count": 38,
   "metadata": {},
   "outputs": [
    {
     "name": "stdout",
     "output_type": "stream",
     "text": [
      "Please enter any stringgoogle.com\n",
      "{'g': 2, 'o': 3, 'l': 1, 'e': 1, '.': 1, 'c': 1, 'm': 1}\n"
     ]
    }
   ],
   "source": [
    "str1 = input(\"Please enter any string\")\n",
    "dic1 = {}\n",
    "for i in str1:\n",
    "    if i not in dic1:\n",
    "        dic1.update({i:1})\n",
    "    else:\n",
    "        dic1.update({i:dic1.get(i)+1})\n",
    "print(dic1)"
   ]
  },
  {
   "cell_type": "raw",
   "metadata": {},
   "source": [
    "3. Write a Python program to get a string made of the first 2 and the last 2 chars from a given a string. If the string length is less than 2, return instead of the empty string. Go to the editor\n",
    "Sample String : 'w3resource'\n",
    "Expected Result : 'w3ce'\n",
    "Sample String : 'w3'\n",
    "Expected Result : 'w3w3'\n",
    "Sample String : ' w'\n",
    "Expected Result : Empty String"
   ]
  },
  {
   "cell_type": "code",
   "execution_count": 94,
   "metadata": {},
   "outputs": [
    {
     "name": "stdout",
     "output_type": "stream",
     "text": [
      "Enter string\n",
      "ku\n",
      "['k', 'u']\n",
      "2\n",
      "kuku\n"
     ]
    }
   ],
   "source": [
    "str1 = input(\"Enter string\\n\")\n",
    "list1 = list(str1.strip(\"\"))\n",
    "list2 = []\n",
    "#list1.append(list1[-1])\n",
    "print(list1)\n",
    "print(len(list1))\n",
    "if(len(list1)<2):\n",
    "    print(\"Empty string\")\n",
    "else:\n",
    "    for i in range(0,2):\n",
    "        list2.append(list1[i])\n",
    "        #print(list2)\n",
    "    for i in range(len(list1)-2,len(list1)):\n",
    "        list2.append(list1[i])\n",
    "        #print(i)\n",
    "        #print(list2)\n",
    "    print(\"\".join(list2))"
   ]
  },
  {
   "cell_type": "raw",
   "metadata": {},
   "source": [
    "4. Write a Python program to get a string from a given string where all occurrences of its first char have been changed to '$', except the first char itself. Go to the editor\n",
    "Sample String : 'restart'\n",
    "Expected Result : 'resta$t'"
   ]
  },
  {
   "cell_type": "code",
   "execution_count": 102,
   "metadata": {},
   "outputs": [
    {
     "name": "stdout",
     "output_type": "stream",
     "text": [
      "Please enter any string\n",
      "kuskkk\n",
      "kus$$$\n"
     ]
    }
   ],
   "source": [
    "str1 = input(\"Please enter any string\\n\")\n",
    "list1 = list(str1.strip(\"\"))\n",
    "list2 = []\n",
    "list2.append(list1[0])\n",
    "for i in range (0,len(list1)):\n",
    "    if i>0:\n",
    "        if list1[i] == list1[0]:\n",
    "            list2.append('$')\n",
    "        else:\n",
    "            list2.append(list1[i])\n",
    "print(\"\".join(list2))"
   ]
  },
  {
   "cell_type": "code",
   "execution_count": null,
   "metadata": {},
   "outputs": [],
   "source": []
  }
 ],
 "metadata": {
  "kernelspec": {
   "display_name": "Python 3",
   "language": "python",
   "name": "python3"
  },
  "language_info": {
   "codemirror_mode": {
    "name": "ipython",
    "version": 3
   },
   "file_extension": ".py",
   "mimetype": "text/x-python",
   "name": "python",
   "nbconvert_exporter": "python",
   "pygments_lexer": "ipython3",
   "version": "3.8.3"
  }
 },
 "nbformat": 4,
 "nbformat_minor": 4
}
