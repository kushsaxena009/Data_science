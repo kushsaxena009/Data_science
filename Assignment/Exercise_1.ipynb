{
 "cells": [
  {
   "cell_type": "markdown",
   "metadata": {},
   "source": [
    "### Python Exercises\n",
    "#### https://www.w3resource.com/python-exercises/python-basic-exercises.php"
   ]
  },
  {
   "cell_type": "code",
   "execution_count": 4,
   "metadata": {},
   "outputs": [
    {
     "name": "stdout",
     "output_type": "stream",
     "text": [
      "Twinkle, twinkle, little star,\n",
      "\t\tHow I wonder what you are!\n",
      "\t\t\t\tUp above the world so high,\n",
      "\t\t\t\tLike a diamond in the sky.\n",
      "Twinkle, twinkle, little star,\n",
      "\t\tHow I wonder what you are\n"
     ]
    }
   ],
   "source": [
    "#1. Write a Python program to print the following string in a specific format (see the output). Go to the editor\n",
    "#Sample String : \"Twinkle, twinkle, little star, How I wonder what you are! Up above the world so high, Like a diamond in the sky. Twinkle, twinkle, little star, How I wonder what you are\" Output :\n",
    "\n",
    "#Twinkle, twinkle, little star,\n",
    "#        How I wonder what you are! \n",
    "#                Up above the world so high,\n",
    "#                Like a diamond in the sky. \n",
    "#Twinkle, twinkle, little star, \n",
    "#        How I wonder what you are\n",
    "print(\"Twinkle, twinkle, little star,\\n\\t\\tHow I wonder what you are!\\n\\t\\t\\t\\tUp above the world so high,\")\n",
    "print(\"\\t\\t\\t\\tLike a diamond in the sky.\\nTwinkle, twinkle, little star,\\n\\t\\tHow I wonder what you are\")"
   ]
  },
  {
   "cell_type": "code",
   "execution_count": 15,
   "metadata": {},
   "outputs": [
    {
     "name": "stdout",
     "output_type": "stream",
     "text": [
      "Python version\n",
      "3.8.3 (default, Jul  2 2020, 17:30:36) [MSC v.1916 64 bit (AMD64)]\n",
      "Version info\n",
      "sys.version_info(major=3, minor=8, micro=3, releaselevel='final', serial=0)\n"
     ]
    }
   ],
   "source": [
    "# 2. Write a Python program to get the Python version you are using\n",
    "import sys\n",
    "print(\"Python version\")\n",
    "print(sys.version)\n",
    "print(\"Version info\")\n",
    "print(sys.version_info)"
   ]
  },
  {
   "cell_type": "code",
   "execution_count": null,
   "metadata": {},
   "outputs": [],
   "source": []
  }
 ],
 "metadata": {
  "kernelspec": {
   "display_name": "Python 3",
   "language": "python",
   "name": "python3"
  },
  "language_info": {
   "codemirror_mode": {
    "name": "ipython",
    "version": 3
   },
   "file_extension": ".py",
   "mimetype": "text/x-python",
   "name": "python",
   "nbconvert_exporter": "python",
   "pygments_lexer": "ipython3",
   "version": "3.8.3"
  }
 },
 "nbformat": 4,
 "nbformat_minor": 4
}
