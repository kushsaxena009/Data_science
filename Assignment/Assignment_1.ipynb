{
 "cells": [
  {
   "cell_type": "markdown",
   "metadata": {},
   "source": [
    "# KUSHAGRA SAXENA\n",
    "# BATCH : ISRQHX4 (09 - Sep - 2021)\n",
    "# Assignment 1\n"
   ]
  },
  {
   "cell_type": "raw",
   "metadata": {},
   "source": [
    " 1. The value of the expressions 4/(3*(2-1)) and 4/3*(2-1) is the same.\n",
    " 2. What will be the value of the following Python expression?\n",
    " 3. Evaluate the expression given below if A = 16 and B = 15.\n",
    " 4. Which of the following operators has its associativity from right to left?\n",
    " 5. What will be the value of x in the following Python expression? x = int(43.55+2/2)\n",
    " 6. What is the value of the following expression? [Input = 2+4.00, 2**4.0]\n",
    " 7. Which of the following is the truncation division operator?\n",
    " 8. What are the values of the following Python expressions?\n",
    "    2**(3**2)\n",
    "    (2**3)**2\n",
    "    2**3**2\n",
    " 9. What is the value of the following expression?\n",
    "10. What is the value of the following expression?\n",
    "11. What will be the output of the following Python expression?\n",
    "    print(4.00/(2.0+2.0))\n",
    "12. What will be the value of X in the following Python expression?\n",
    "    X = 2+9*((3*12)-8)/10\n",
    "13. Which of the following expressions involves coercion when evaluated\n",
    "    in Python?\n",
    "    a) 4.7 – 1.5\n",
    "    b) 7.9 * 6.3\n",
    "    c) 1.7 % 2\n",
    "    d) 3.4 + 4.6\n",
    "14. What will be the output of the following Python expression?\n",
    "    24//6%3, 24//4//2\n",
    "15. Which among the following list of operators has the\n",
    "    highest precedence?\n",
    "     +, -, **, %, /, <<, >>, |\n",
    "16. What will be the value of the following Python expression?\n",
    "    float(4+int(2.39)%2)\n",
    "17. Which of the following expressions is an example of type conversion?\n",
    "18. Which of the following expressions results in an error?\n",
    "    a) float(‘10’)\n",
    "    b) int(‘10’)\n",
    "    c) float(’10.8’)\n",
    "    d) int(’10.8’)\n",
    "19. What will be the value of the following Python expression?\n",
    "    4+2**5//10\n",
    "20. The expression 2**2**3 is evaluates as: (2**2)**3.\n",
    "    a) True\n",
    "    b) False\n",
    "21. What will be the output of the following Python code snippet if x=1?\n",
    "    x<<2\n",
    "    a) 8\n",
    "    b) 1\n",
    "    c) 2\n",
    "    d) 4\n",
    "22. What will be the output of the following Python expression?\n",
    "    bin(29)\n",
    "    a) ‘0b10111’\n",
    "    b) ‘0b11101’\n",
    "    c) ‘0b11111’\n",
    "    d) ‘0b11011’\n",
    "23. What will be the value of x in the following Python expression, if the\n",
    "    result of that expression is 2?\n",
    "    x>>2\n",
    "    a) 8\n",
    "    b) 4\n",
    "    c) 2\n",
    "    d) 1\n",
    "24. What will be the output of the following Python expression?\n",
    "    int(1011)?\n",
    "    a) 1011\n",
    "    b) 11\n",
    "    c) 13\n",
    "    d) 1101\n",
    "25. To find the decimal value of 1111, that is 15, we can use the function:\n",
    "    a) int(1111,10)\n",
    "    b) int(‘1111’,10)\n",
    "    c) int(1111,2)\n",
    "    d) int(‘1111’,2)\n",
    "26. What will be the output of the following Python expression if x=15 and\n",
    "    y=12?\n",
    "    x & y\n",
    "    a) b1101\n",
    "    b) 0b1101\n",
    "    c) 12\n",
    "    d) 1101\n",
    "27. Which of the following expressions results in an error?\n",
    "    a) int(1011)\n",
    "    b) int(‘1011’,23)\n",
    "    c) int(1011,2)\n",
    "    d) int(‘1011’)\n",
    "28. Which of the following represents the bitwise XOR operator?\n",
    "    a) &\n",
    "    b) ^\n",
    "    c) |\n",
    "    d) !\n",
    "29. What is the value of the following Python expression?\n",
    "    bin(0x8)\n",
    "    a) ‘0bx1000’\n",
    "    b) 8\n",
    "    c) 1000\n",
    "    d) ‘0b1000’\n",
    "30. What will be the output of the following Python expression?\n",
    "    0x35 | 0x75\n",
    "    a) 115\n",
    "    b) 116\n",
    "    c) 117\n",
    "    d) 118\n",
    "31. It is not possible for the two’s complement value to be equal to the\n",
    "    original value in any case.\n",
    "    a) True\n",
    "    b) False\n",
    "32. The one’s complement of 110010101 is:\n",
    "    a) 001101010\n",
    "    b) 110010101\n",
    "    c) 001101011\n",
    "    d) 110010100\n",
    "33. Bitwise _________ gives 1 if either of the bits is 1 and 0 when both of\n",
    "    the bits are 1.\n",
    "    a) OR\n",
    "    b) AND\n",
    "    c) XOR\n",
    "    d) NOT\n",
    "34. What will be the output of the following Python expression?\n",
    "    4^12\n",
    "    a) 2\n",
    "    b) 4\n",
    "    c) 8\n",
    "    d) 12\n",
    "35. Any odd number on being AND-ed with ________ always gives 1. Hint:\n",
    "    Any even number on being AND-ed with this value always gives 0.\n",
    "    a) 10\n",
    "    b) 2\n",
    "    c) 1\n",
    "    d) 0\n",
    "36. What will be the value of the following Python expression?\n",
    "    bin(10-2)+bin(12^4)\n",
    "    a) 0b10000\n",
    "    b) 0b10001000\n",
    "    c) 0b1000b1000\n",
    "    d) 0b10000b1000\n",
    "37. Which of the following expressions can be used to multiply a given\n",
    "    number ‘a’ by 4?\n",
    "    a) a<<2\n",
    "    b) a<<4\n",
    "    c) a>>2\n",
    "    d) a>>4\n",
    "38. What will be the output of the following Python code if a=10 and b =20?\n",
    "    a=10\n",
    "    b=20\n",
    "    a=a^b\n",
    "    b=a^b\n",
    "    a=a^b\n",
    "    print(a,b)\n",
    "39. What is the two’s complement of -44?\n",
    "    a) 1011011\n",
    "    b) 11010100\n",
    "    c) 11101011\n",
    "    d) 1011001110. What will be the output of the following Python expression?\n",
    "    ~100?\n",
    "    a) 101\n",
    "    b) -101\n",
    "    c) 100\n",
    "    d) -100"
   ]
  },
  {
   "cell_type": "code",
   "execution_count": 1,
   "metadata": {},
   "outputs": [
    {
     "name": "stdout",
     "output_type": "stream",
     "text": [
      "Expression 1 result is  1.3333333333333333\n",
      "Expression 2 result is  1.3333333333333333\n"
     ]
    }
   ],
   "source": [
    "# Question 1  : The value of the expressions 4/(3*(2-1)) and 4/3*(2-1) is the same.\n",
    "exp1 = 4/(3*(2-1))  \n",
    "# 4/(3*(1))\n",
    "# 4/3\n",
    "exp2 = 4/3*(2-1)\n",
    "# 4/3*(1)\n",
    "# 4/3\n",
    "print(\"Expression 1 result is \",exp1)\n",
    "print(\"Expression 2 result is \",exp2)\n"
   ]
  },
  {
   "cell_type": "code",
   "execution_count": 2,
   "metadata": {},
   "outputs": [],
   "source": [
    "# Question 2\n",
    "# It is incomplete as of now ?"
   ]
  },
  {
   "cell_type": "code",
   "execution_count": 3,
   "metadata": {},
   "outputs": [],
   "source": [
    "# Question 3 \n",
    "# It is incomplete as of now ?"
   ]
  },
  {
   "cell_type": "code",
   "execution_count": 4,
   "metadata": {},
   "outputs": [],
   "source": [
    "# Question 4 (associativity from right to left)\n",
    "# Assignment operators like \n",
    "# '=', '+=','-=','\\=','*=','//=','%=','**='"
   ]
  },
  {
   "cell_type": "code",
   "execution_count": 5,
   "metadata": {},
   "outputs": [
    {
     "name": "stdout",
     "output_type": "stream",
     "text": [
      "Value of expression is  44\n"
     ]
    }
   ],
   "source": [
    "# Question 5\n",
    "exp3 = int(43.55 + 2/2)\n",
    "# exp3 = int(43.55 + 1)\n",
    "# exp3 = int(44.55)\n",
    "# exp3 = 44 [Because int will not consider decimal value, therefore floee of x i.e. 44 will be print]\n",
    "print(\"Value of expression is \",exp3)"
   ]
  },
  {
   "cell_type": "code",
   "execution_count": 6,
   "metadata": {},
   "outputs": [
    {
     "name": "stdout",
     "output_type": "stream",
     "text": [
      "Value of expression is  6.0\n",
      "Value of expression is  16.0\n"
     ]
    }
   ],
   "source": [
    "# Question 6\n",
    "exp4 = 2+4.00\n",
    "exp5 = 2**4.0\n",
    "# exp4 = 6.00\n",
    "# exp5 = 2 to power 4.0 = 16.0\n",
    "print(\"Value of expression is \",exp4)\n",
    "print(\"Value of expression is \",exp5)"
   ]
  },
  {
   "cell_type": "code",
   "execution_count": 7,
   "metadata": {},
   "outputs": [],
   "source": [
    "# Question 7\n",
    "# Truncation division operators\n",
    "# '//' Floor division"
   ]
  },
  {
   "cell_type": "code",
   "execution_count": 8,
   "metadata": {},
   "outputs": [
    {
     "name": "stdout",
     "output_type": "stream",
     "text": [
      "Value of expression is  512\n",
      "Value of expression is  64\n",
      "Value of expression is  512\n"
     ]
    }
   ],
   "source": [
    "# Question 8\n",
    "exp6 = 2**(3**2)\n",
    "# 2**(3^2)\n",
    "# 2**(9)\n",
    "# 2^9 = [2*2*2*2*2*2*2*2*2] = 512\n",
    "exp7 = (2**3)**2\n",
    "# (2^3)**2\n",
    "# (8)**2\n",
    "# 8^2 = [8*8] = 64\n",
    "exp8 = 2**3**2\n",
    "# 2**3^2\n",
    "# 2**9\n",
    "# 2^9 = 512\n",
    "print(\"Value of expression is \",exp6)\n",
    "print(\"Value of expression is \",exp7)\n",
    "print(\"Value of expression is \",exp8)"
   ]
  },
  {
   "cell_type": "code",
   "execution_count": 9,
   "metadata": {},
   "outputs": [],
   "source": [
    "# Question 9\n",
    "# Incomplete question, as of now?"
   ]
  },
  {
   "cell_type": "code",
   "execution_count": 10,
   "metadata": {},
   "outputs": [],
   "source": [
    "# Question 10\n",
    "# Incomplete question, as of now?"
   ]
  },
  {
   "cell_type": "code",
   "execution_count": 11,
   "metadata": {},
   "outputs": [
    {
     "name": "stdout",
     "output_type": "stream",
     "text": [
      "Value of expression is  1.0\n"
     ]
    }
   ],
   "source": [
    "# Question 11\n",
    "exp9 = 4.00/(2.0 + 2.0)\n",
    "# = 4.00/(4.0) = 1.00\n",
    "print(\"Value of expression is \",exp9)"
   ]
  },
  {
   "cell_type": "code",
   "execution_count": 12,
   "metadata": {},
   "outputs": [
    {
     "name": "stdout",
     "output_type": "stream",
     "text": [
      "Value of expression is  27.2\n"
     ]
    }
   ],
   "source": [
    "# Question 12\n",
    "exp10 = 2+9*((3*12)-8)/10\n",
    "# 2+9*(36-8)/10\n",
    "# 2+9*28/10\n",
    "# 2+252/10 or 2+9*2.8\n",
    "# 2+25.2 or 2+25.2\n",
    "# 27.2 or 27.2\n",
    "print(\"Value of expression is \",exp10)"
   ]
  },
  {
   "cell_type": "code",
   "execution_count": 13,
   "metadata": {},
   "outputs": [
    {
     "name": "stdout",
     "output_type": "stream",
     "text": [
      "Expression 1 is 3.2\n",
      "Expression 2 is 49.77\n",
      "Expression 3 is 1.7\n",
      "Expression 4 is 8.0\n"
     ]
    }
   ],
   "source": [
    "# Question 13\n",
    "# Which of the following expressions involves coercion when evaluated in Python?\n",
    "    # a) 4.7 – 1.5 = 3.2\n",
    "    # b) 7.9 * 6.3 = 49.77\n",
    "    # c) 1.7 % 2 = 1.7\n",
    "    # d) 3.4 + 4.6 = 8.0\n",
    "a=4.7 - 1.5\n",
    "b=7.9*6.3\n",
    "c=1.7%2\n",
    "d=3.4+4.6\n",
    "print(\"Expression 1 is\",(a))\n",
    "print(\"Expression 2 is\",(b))\n",
    "print(\"Expression 3 is\",(c))\n",
    "print(\"Expression 4 is\",(d))"
   ]
  },
  {
   "cell_type": "code",
   "execution_count": 18,
   "metadata": {},
   "outputs": [
    {
     "name": "stdout",
     "output_type": "stream",
     "text": [
      "1\n",
      "3\n"
     ]
    }
   ],
   "source": [
    "# Question 14\n",
    "exp = 24//6%3 # R -> L = 4%3 = 1\n",
    "exp1 = 24//4//2 # R -> L = 6//2 = 3\n",
    "print(exp)\n",
    "print(exp1)"
   ]
  },
  {
   "cell_type": "code",
   "execution_count": 28,
   "metadata": {},
   "outputs": [
    {
     "name": "stdout",
     "output_type": "stream",
     "text": [
      "0b11100\n",
      "0b11100000\n"
     ]
    }
   ],
   "source": [
    "# Question 15\n",
    "# highest precedence\n",
    "# '+', '-', '**', '%', '/', '<<', '>>', '|'\n",
    "exp = 2+4-8**3%9/2\n",
    "exp1 = 7<<2 +3 # 0b0111<<2 + 3 = 0b11100 + 3 = 0b11111 or 10<<2 = 0b1010<<2 = 101000\n",
    "print(bin(7<<2))\n",
    "print(bin(exp1))\n",
    "# >> or << have low precedence from airthmetic operators\n"
   ]
  },
  {
   "cell_type": "code",
   "execution_count": 30,
   "metadata": {},
   "outputs": [
    {
     "name": "stdout",
     "output_type": "stream",
     "text": [
      "4.0\n"
     ]
    }
   ],
   "source": [
    "# Question 16\n",
    "exp = float(4+int((2.39)%2))\n",
    "# float(4+int(0.39)) = float(4+0) = float(4) = 4.0\n",
    "print(exp)"
   ]
  },
  {
   "cell_type": "code",
   "execution_count": 31,
   "metadata": {},
   "outputs": [],
   "source": [
    "# Question 17\n",
    "# Incomplete question, as of now?"
   ]
  },
  {
   "cell_type": "code",
   "execution_count": 37,
   "metadata": {},
   "outputs": [
    {
     "name": "stdout",
     "output_type": "stream",
     "text": [
      "10.0\n",
      "10\n",
      "10.8\n"
     ]
    }
   ],
   "source": [
    "# Question 18\n",
    "exp1 = float('10') # 10.0\n",
    "exp2 = int('10') \n",
    "exp3 = float('10.8')\n",
    "#exp4 = int('10.8') #Error int only take whole number\n",
    "print(exp1)\n",
    "print(exp2)\n",
    "print(exp3)\n",
    "#print(exp4)"
   ]
  },
  {
   "cell_type": "code",
   "execution_count": 43,
   "metadata": {},
   "outputs": [
    {
     "name": "stdout",
     "output_type": "stream",
     "text": [
      "7\n"
     ]
    }
   ],
   "source": [
    "# Question 19\n",
    "exp = 4+2**5//10 \n",
    "# follow precedences\n",
    "# '**' > '//' > '+'\n",
    "# 4+32//10\n",
    "# 4+3\n",
    "# 7\n",
    "print(exp)"
   ]
  },
  {
   "cell_type": "code",
   "execution_count": 45,
   "metadata": {},
   "outputs": [
    {
     "name": "stdout",
     "output_type": "stream",
     "text": [
      "False\n",
      "256\n",
      "64\n"
     ]
    }
   ],
   "source": [
    "# Question 20\n",
    "exp = 2**2**3 # 2^2^3 = 2^8 = 256\n",
    "exp1 = (2**2)**3 # (2^2)^3 = 4^3 = 64\n",
    "print (exp == exp1) # False\n",
    "print(exp)\n",
    "print(exp1)"
   ]
  },
  {
   "cell_type": "code",
   "execution_count": 47,
   "metadata": {},
   "outputs": [
    {
     "name": "stdout",
     "output_type": "stream",
     "text": [
      "4\n"
     ]
    }
   ],
   "source": [
    "# Question 21\n",
    "x=1\n",
    "x<<2 # 0b01 <<2 = 0b0100 = 4\n",
    "print(x<<2)\n",
    "# Answer is 'd'"
   ]
  },
  {
   "cell_type": "code",
   "execution_count": 48,
   "metadata": {},
   "outputs": [
    {
     "name": "stdout",
     "output_type": "stream",
     "text": [
      "0b11101\n"
     ]
    }
   ],
   "source": [
    "# Question 22\n",
    "x =bin(29) # 32 16 8 4 2 1 = 0 1 1 1 0 1 = 0b11101\n",
    "print(x)\n",
    "# Answer is 'b'"
   ]
  },
  {
   "cell_type": "code",
   "execution_count": null,
   "metadata": {},
   "outputs": [],
   "source": [
    "# Question 23\n"
   ]
  }
 ],
 "metadata": {
  "kernelspec": {
   "display_name": "Python 3",
   "language": "python",
   "name": "python3"
  },
  "language_info": {
   "codemirror_mode": {
    "name": "ipython",
    "version": 3
   },
   "file_extension": ".py",
   "mimetype": "text/x-python",
   "name": "python",
   "nbconvert_exporter": "python",
   "pygments_lexer": "ipython3",
   "version": "3.8.3"
  }
 },
 "nbformat": 4,
 "nbformat_minor": 4
}
